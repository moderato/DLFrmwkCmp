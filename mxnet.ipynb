{
 "cells": [
  {
   "cell_type": "code",
   "execution_count": 1,
   "metadata": {},
   "outputs": [
    {
     "name": "stdout",
     "output_type": "stream",
     "text": [
      "(49, 49, 3)\n"
     ]
    },
    {
     "data": {
      "image/png": "[encoded data removed]",
      "text/plain": [
       "<matplotlib.figure.Figure at 0x104b3b128>"
      ]
     },
     "metadata": {},
     "output_type": "display_data"
    },
    {
     "name": "stdout",
     "output_type": "stream",
     "text": [
      "(49, 49, 3)\n"
     ]
    },
    {
     "data": {
      "image/png": "[encoded data removed]",
      "text/plain": [
       "<matplotlib.figure.Figure at 0x10afa3748>"
      ]
     },
     "metadata": {},
     "output_type": "display_data"
    }
   ],
   "source": [
    "from PIL import Image\n",
    "import matplotlib.pyplot as plt\n",
    "import numpy as np\n",
    "import csv, time, os.path\n",
    "from six.moves import cPickle\n",
    "from sklearn import model_selection as ms\n",
    "\n",
    "# function for reading the images\n",
    "# arguments: path to the traffic sign data, for example './GTSRB/Training'\n",
    "# returns: list of images, list of corresponding labels \n",
    "def readTrafficSigns(rootpath, size, training=True):\n",
    "    '''Reads traffic sign data for German Traffic Sign Recognition Benchmark.\n",
    "\n",
    "    Arguments: path to the traffic sign data, for example './GTSRB/Training'\n",
    "    Returns:   list of images, list of corresponding labels'''\n",
    "    images = [] # images\n",
    "    labels = [] # corresponding labels\n",
    "    # loop over all 43 classes\n",
    "    if training:\n",
    "        for c in range(0,43):\n",
    "            prefix = rootpath + '/' + format(c, '05d') + '/' # subdirectory for class\n",
    "            gtFile = open(prefix + 'GT-'+ format(c, '05d') + '.csv') # annotations file\n",
    "            gtReader = csv.reader(gtFile, delimiter=';') # csv parser for annotations file\n",
    "            gtReader.next() # skip header\n",
    "            # loop over all images in current annotations file\n",
    "            for row in gtReader:\n",
    "#                 image = Image.open(prefix + row[0]).convert('L') # Load an image and convert to grayscale\n",
    "                image = Image.open(prefix + row[0])\n",
    "                box = (int(row[3]), int(row[4]), int(row[5]), int(row[6])) # Specify ROI box\n",
    "                image = image.crop(box) # Crop the ROI\n",
    "                image = image.resize(size) # Resize images\n",
    "                images.append(np.asarray(image).astype('uint8')) # the 1th column is the filename, while 3,4,5,6 are the vertices of ROI\n",
    "                labels.append(int(row[7])) # the 8th column is the label\n",
    "            gtFile.close()\n",
    "    else:\n",
    "        gtFile = open(rootpath + \"/../../GT-final_test.csv\") # annotations file\n",
    "        gtReader = csv.reader(gtFile, delimiter=';') # csv parser for annotations file\n",
    "        gtReader.next() # skip header\n",
    "        # loop over all images in current annotations file\n",
    "        for row in gtReader:\n",
    "#             image = Image.open(rootpath + '/' + row[0]).convert('L') # Load an image and convert to grayscale\n",
    "            image = Image.open(rootpath + '/' + row[0]) # Color version\n",
    "            box = (int(row[3]), int(row[4]), int(row[5]), int(row[6])) # Specify ROI box\n",
    "            image = image.crop(box) # Crop the ROI\n",
    "            image = image.resize(size) # Resize images\n",
    "            images.append(np.asarray(image).astype('uint8')) # the 1th column is the filename, while 3,4,5,6 are the vertices of ROI\n",
    "            labels.append(int(row[7])) # the 8th column is the label\n",
    "        gtFile.close()\n",
    "        \n",
    "    return images, labels\n",
    "\n",
    "root = \"/Users/moderato/Downloads/GTSRB/try\"\n",
    "train_dir = root + \"/Final_Training/Images\"\n",
    "test_dir = root + \"/Final_Test/Images\"\n",
    "resize_size = (49, 49)\n",
    "epoch_num = 60\n",
    "\n",
    "trainImages, trainLabels, testImages, testLabels = None, None, None, None\n",
    "\n",
    "## If pickle file exists, read the file\n",
    "if os.path.isfile(root + \"/processed_images.pkl\"):\n",
    "    f = open(root + \"/processed_images.pkl\", 'rb')\n",
    "    trainImages = cPickle.load(f, encoding=\"latin1\")\n",
    "    trainLabels = cPickle.load(f, encoding=\"latin1\")\n",
    "    testImages = cPickle.load(f, encoding=\"latin1\")\n",
    "    testLabels = cPickle.load(f, encoding=\"latin1\")\n",
    "    f.close()\n",
    "## Else, read images and write to the pickle file\n",
    "else:\n",
    "    start = time.time()\n",
    "    trainImages, trainLabels = readTrafficSigns(train_dir, resize_size)\n",
    "    print(\"Training Image preprocessing finished in {:.2f} seconds\".format(time.time() - start))\n",
    "    print(\"trainImages list length %d, trainLabels list length {:d}\".format(len(trainImages), len(trainLabels)))\n",
    "\n",
    "    start = time.time()\n",
    "    testImages, testLabels = readTrafficSigns(test_dir, resize_size, False)\n",
    "    print(\"Testing Image preprocessing finished in {:.2f} seconds\".format(time.time() - start))\n",
    "    print(\"testImages list length {:d}, testLabels list length {:d}\".format(len(testImages), len(testLabels)))\n",
    "    \n",
    "    f = open(root + \"/processed_images.pkl\", 'wb')\n",
    "    for obj in [trainImages, trainLabels, testImages, testLabels]:\n",
    "        cPickle.dump(obj, f, protocol=cPickle.HIGHEST_PROTOCOL)\n",
    "    f.close()\n",
    "    \n",
    "print(trainImages[42].shape)\n",
    "plt.imshow(trainImages[42])\n",
    "plt.show()\n",
    "\n",
    "print(testImages[21].shape)\n",
    "plt.imshow(trainImages[21])\n",
    "plt.show()\n",
    "\n",
    "x_train, x_valid, y_train, y_valid = ms.train_test_split(trainImages, trainLabels, test_size=0.2, random_state=542)"
   ]
  },
  {
   "cell_type": "markdown",
   "metadata": {},
   "source": [
    "## MxNet"
   ]
  },
  {
   "cell_type": "code",
   "execution_count": 2,
   "metadata": {
    "collapsed": true
   },
   "outputs": [],
   "source": [
    "import mxnet as mx\n",
    "import logging\n",
    "logging.getLogger().setLevel(logging.DEBUG)  # logging to stdout\n",
    "\n",
    "epoch_num = 1\n",
    "batch_size = 128\n",
    "resize_size = (49, 49)"
   ]
  },
  {
   "cell_type": "code",
   "execution_count": 3,
   "metadata": {
    "collapsed": true
   },
   "outputs": [],
   "source": [
    "mx_train_x = mx.nd.array([i.swapaxes(0,2).astype(\"float32\")/255 for i in x_train])\n",
    "mx_valid_x = mx.nd.array([i.swapaxes(0,2).astype(\"float32\")/255 for i in x_valid])\n",
    "mx_test_x = mx.nd.array([i.swapaxes(0,2).astype(\"float32\")/255 for i in testImages])\n",
    "mx_train_y = mx.nd.array(y_train, dtype=np.float32) # No need of one_hot\n",
    "mx_valid_y = mx.nd.array(y_valid, dtype=np.float32)\n",
    "mx_test_y = mx.nd.array(testLabels, dtype=np.float32)"
   ]
  },
  {
   "cell_type": "code",
   "execution_count": 4,
   "metadata": {
    "collapsed": true
   },
   "outputs": [],
   "source": [
    "# The iterators have input name of 'data' and output name of 'softmax_label' if not particularly specified\n",
    "mx_train_set = mx.io.NDArrayIter(mx_train_x, mx_train_y, batch_size, shuffle=True)\n",
    "mx_valid_set = mx.io.NDArrayIter(mx_valid_x, mx_valid_y, batch_size)\n",
    "mx_test_set = mx.io.NDArrayIter(mx_test_x, mx_test_y, batch_size)\n",
    "\n",
    "# Print the shape and type of training set lapel\n",
    "# mx_train_set.provide_label"
   ]
  },
  {
   "cell_type": "code",
   "execution_count": 5,
   "metadata": {},
   "outputs": [],
   "source": [
    "data = mx.sym.Variable('data')\n",
    "mx_conv1 = mx.sym.Convolution(data = data, name='mx_conv1', num_filter=64, kernel=(5,5), stride=(2,2))\n",
    "mx_act1 = mx.sym.Activation(data = mx_conv1, name='mx_relu1', act_type=\"relu\")\n",
    "mx_mp1 = mx.sym.Pooling(data = mx_act1, name = 'mx_pool1', kernel=(2,2), stride=(2,2), pool_type='max')\n",
    "mx_conv2 = mx.sym.Convolution(data = mx_mp1, name='mx_conv2', num_filter=512, kernel=(3,3), stride=(1,1), pad=(1,1))\n",
    "mx_act2 = mx.sym.Activation(data = mx_conv2, name='mx_relu2', act_type=\"relu\")\n",
    "mx_mp2 = mx.sym.Pooling(data = mx_act2, name = 'mx_pool2', kernel=(2,2), stride=(2,2), pool_type='max')\n",
    "mx_fl = mx.sym.Flatten(data = mx_mp2, name=\"mx_flatten\")\n",
    "mx_fc1 = mx.sym.FullyConnected(data = mx_fl, name='mx_fc1', num_hidden=2048)\n",
    "mx_drop = mx.sym.Dropout(data = mx_fc1, name='mx_dropout', p=0.5)\n",
    "mx_fc2 = mx.sym.FullyConnected(data = mx_drop, name='mx_fc2', num_hidden=43)\n",
    "mx_softmax = mx.sym.SoftmaxOutput(data = mx_fc2, name ='softmax')\n",
    "\n",
    "# Print the names of arguments in the model\n",
    "# mx_softmax.list_arguments() # Make sure the input and the output names are consistent of those in the iterator!!\n",
    "\n",
    "# Print the size of the model\n",
    "# mx_softmax.infer_shape(data=(1,3,49,49))\n",
    "\n",
    "# Draw the network\n",
    "# mx.viz.plot_network(mx_softmax, shape={\"data\":(batch_size, 3, resize_size[0], resize_size[1])})"
   ]
  },
  {
   "cell_type": "code",
   "execution_count": 13,
   "metadata": {},
   "outputs": [],
   "source": [
    "class MxCustomInit(mx.initializer.Initializer):\n",
    "    def __init__(self, idict):\n",
    "        super(MxCustomInit, self).__init__()\n",
    "        self.dict = idict\n",
    "        np.random.seed(seed=542)\n",
    "\n",
    "    def _init_weight(self, name, arr):\n",
    "        if name in self.dict.keys():\n",
    "            dictPara = self.dict[name]\n",
    "            for(k, v) in dictPara.items():\n",
    "                arr = np.random.normal(0, v, size=arr.shape)\n",
    "\n",
    "    def _init_bias(self, name, arr):\n",
    "        if name in self.dict.keys():\n",
    "            dictPara = self.dict[name]\n",
    "            for(k, v) in dictPara.items():\n",
    "                arr[:] = v"
   ]
  },
  {
   "cell_type": "code",
   "execution_count": 14,
   "metadata": {},
   "outputs": [],
   "source": [
    "mx_optimizer = mx.optimizer.SGD(learning_rate = 0.001, momentum = 0.9)\n",
    "mx_nor_dict = {'normal': 0.01}\n",
    "mx_cons_dict = {'constant': 0.0}\n",
    "mx_init_dict = {}\n",
    "for layer in mx_softmax.list_arguments():\n",
    "    hh = layer.split('_')\n",
    "    if hh[-1] == 'weight':\n",
    "        mx_init_dict[layer] = mx_nor_dict\n",
    "    elif hh[-1] == 'bias':\n",
    "        mx_init_dict[layer] = mx_cons_dict\n",
    "# print(mx_init_dict)"
   ]
  },
  {
   "cell_type": "code",
   "execution_count": 15,
   "metadata": {},
   "outputs": [
    {
     "name": "stderr",
     "output_type": "stream",
     "text": [
      "INFO:root:Epoch[0] Batch [10]\tSpeed: 191.79 samples/sec\taccuracy=0.051847\n",
      "INFO:root:Epoch[0] Batch [20]\tSpeed: 192.70 samples/sec\taccuracy=0.057031\n",
      "INFO:root:Epoch[0] Batch [30]\tSpeed: 201.01 samples/sec\taccuracy=0.049219\n",
      "INFO:root:Epoch[0] Batch [40]\tSpeed: 204.48 samples/sec\taccuracy=0.058594\n",
      "INFO:root:Epoch[0] Batch [50]\tSpeed: 199.70 samples/sec\taccuracy=0.060156\n",
      "INFO:root:Epoch[0] Batch [60]\tSpeed: 200.07 samples/sec\taccuracy=0.058594\n",
      "INFO:root:Epoch[0] Batch [70]\tSpeed: 200.78 samples/sec\taccuracy=0.052344\n",
      "INFO:root:Epoch[0] Batch [80]\tSpeed: 203.52 samples/sec\taccuracy=0.047656\n",
      "INFO:root:Epoch[0] Batch [90]\tSpeed: 198.44 samples/sec\taccuracy=0.060937\n",
      "INFO:root:Epoch[0] Batch [100]\tSpeed: 204.94 samples/sec\taccuracy=0.042969\n",
      "INFO:root:Epoch[0] Batch [110]\tSpeed: 200.59 samples/sec\taccuracy=0.053125\n",
      "INFO:root:Epoch[0] Batch [120]\tSpeed: 206.61 samples/sec\taccuracy=0.055469\n",
      "INFO:root:Epoch[0] Batch [130]\tSpeed: 206.37 samples/sec\taccuracy=0.050781\n",
      "INFO:root:Epoch[0] Batch [140]\tSpeed: 206.76 samples/sec\taccuracy=0.064844\n",
      "INFO:root:Epoch[0] Batch [150]\tSpeed: 195.24 samples/sec\taccuracy=0.051562\n",
      "INFO:root:Epoch[0] Batch [160]\tSpeed: 208.85 samples/sec\taccuracy=0.042969\n",
      "INFO:root:Epoch[0] Batch [170]\tSpeed: 205.91 samples/sec\taccuracy=0.071875\n",
      "INFO:root:Epoch[0] Batch [180]\tSpeed: 195.37 samples/sec\taccuracy=0.042969\n",
      "INFO:root:Epoch[0] Batch [190]\tSpeed: 206.65 samples/sec\taccuracy=0.066406\n",
      "INFO:root:Epoch[0] Batch [200]\tSpeed: 203.07 samples/sec\taccuracy=0.063281\n",
      "INFO:root:Epoch[0] Batch [210]\tSpeed: 205.89 samples/sec\taccuracy=0.057031\n",
      "INFO:root:Epoch[0] Batch [220]\tSpeed: 207.73 samples/sec\taccuracy=0.046875\n",
      "INFO:root:Epoch[0] Train-accuracy=0.050781\n",
      "INFO:root:Epoch[0] Time cost=142.959\n",
      "INFO:root:Epoch[0] Validation-accuracy=0.057208\n"
     ]
    }
   ],
   "source": [
    "# create a trainable module on CPU\n",
    "mx_model = mx.mod.Module(context = mx.cpu(), symbol = mx_softmax)\n",
    "\n",
    "# Currently no solution to reproducibility. Eyes on issue 47.\n",
    "mx_model.fit(mx_train_set, # train data\n",
    "             eval_data = mx_valid_set, # validation data\n",
    "             num_epoch = epoch_num,\n",
    "             initializer = MxCustomInit(mx_init_dict),\n",
    "             optimizer = 'sgd',\n",
    "             optimizer_params = {'learning_rate': 0.01, 'momentum': 0.9},\n",
    "             force_rebind=True,\n",
    "             force_init=True,\n",
    "             eval_metric ='acc', # report accuracy during training\n",
    "             batch_end_callback = mx.callback.Speedometer(batch_size, 10)) # output progress for each 10 data batches"
   ]
  },
  {
   "cell_type": "code",
   "execution_count": 9,
   "metadata": {},
   "outputs": [
    {
     "name": "stdout",
     "output_type": "stream",
     "text": [
      "Accuracy score is 0.059265\n"
     ]
    }
   ],
   "source": [
    "score = mx_model.score(mx_test_set, ['acc'])\n",
    "print(\"Accuracy score is %f\" % (score[0][1]))"
   ]
  }
 ],
 "metadata": {
  "kernelspec": {
   "display_name": "Python 3",
   "language": "python",
   "name": "python3"
  },
  "language_info": {
   "codemirror_mode": {
    "name": "ipython",
    "version": 3
   },
   "file_extension": ".py",
   "mimetype": "text/x-python",
   "name": "python",
   "nbconvert_exporter": "python",
   "pygments_lexer": "ipython3",
   "version": "3.5.0"
  }
 },
 "nbformat": 4,
 "nbformat_minor": 2
}
