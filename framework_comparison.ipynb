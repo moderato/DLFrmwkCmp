{
 "cells": [
  {
   "cell_type": "markdown",
   "metadata": {},
   "source": [
    "# Performance Comparison of Deep Learning Frameworks\n",
    "\n",
    "## Image Preprocessing"
   ]
  },
  {
   "cell_type": "code",
   "execution_count": 1,
   "metadata": {
    "collapsed": true
   },
   "outputs": [],
   "source": [
    "from PIL import Image\n",
    "import numpy as np\n",
    "import csv, time, os.path\n",
    "from six.moves import cPickle\n",
    "from sklearn import model_selection as ms"
   ]
  },
  {
   "cell_type": "code",
   "execution_count": 2,
   "metadata": {
    "collapsed": true
   },
   "outputs": [],
   "source": [
    "# function for reading the images\n",
    "# arguments: path to the traffic sign data, for example './GTSRB/Training'\n",
    "# returns: list of images, list of corresponding labels \n",
    "def readTrafficSigns(rootpath, size, training=True):\n",
    "    '''Reads traffic sign data for German Traffic Sign Recognition Benchmark.\n",
    "\n",
    "    Arguments: path to the traffic sign data, for example './GTSRB/Training'\n",
    "    Returns:   list of images, list of corresponding labels'''\n",
    "    images = [] # images\n",
    "    labels = [] # corresponding labels\n",
    "    # loop over all 43 classes\n",
    "    if training:\n",
    "        for c in range(0,43):\n",
    "            prefix = rootpath + '/' + format(c, '05d') + '/' # subdirectory for class\n",
    "            gtFile = open(prefix + 'GT-'+ format(c, '05d') + '.csv') # annotations file\n",
    "            gtReader = csv.reader(gtFile, delimiter=';') # csv parser for annotations file\n",
    "            next(gtReader) # skip header\n",
    "            # loop over all images in current annotations file\n",
    "            for row in gtReader:\n",
    "#                 image = Image.open(prefix + row[0]).convert('L') # Load an image and convert to grayscale\n",
    "                image = Image.open(prefix + row[0])\n",
    "                box = (int(row[3]), int(row[4]), int(row[5]), int(row[6])) # Specify ROI box\n",
    "                image = image.crop(box) # Crop the ROI\n",
    "                image = image.resize(size) # Resize images\n",
    "                images.append(np.asarray(image).astype('uint8')) # the 1th column is the filename, while 3,4,5,6 are the vertices of ROI\n",
    "                labels.append(int(row[7])) # the 8th column is the label\n",
    "            gtFile.close()\n",
    "    else:\n",
    "        gtFile = open(rootpath + \"/../../GT-final_test.csv\") # annotations file\n",
    "        gtReader = csv.reader(gtFile, delimiter=';') # csv parser for annotations file\n",
    "        next(gtReader) # skip header\n",
    "        # loop over all images in current annotations file\n",
    "        for row in gtReader:\n",
    "#             image = Image.open(rootpath + '/' + row[0]).convert('L') # Load an image and convert to grayscale\n",
    "            image = Image.open(rootpath + '/' + row[0]) # Color version\n",
    "            box = (int(row[3]), int(row[4]), int(row[5]), int(row[6])) # Specify ROI box\n",
    "            image = image.crop(box) # Crop the ROI\n",
    "            image = image.resize(size) # Resize images\n",
    "            images.append(np.asarray(image).astype('uint8')) # the 1th column is the filename, while 3,4,5,6 are the vertices of ROI\n",
    "            labels.append(int(row[7])) # the 8th column is the label\n",
    "        gtFile.close()\n",
    "        \n",
    "    return images, labels"
   ]
  },
  {
   "cell_type": "code",
   "execution_count": 3,
   "metadata": {},
   "outputs": [
    {
     "name": "stdout",
     "output_type": "stream",
     "text": [
      "/home/zhongyilin/Desktop/GTSRB/try\n"
     ]
    }
   ],
   "source": [
    "from sys import platform\n",
    "global root\n",
    "global epoch_num\n",
    "if platform == \"darwin\":\n",
    "    root = \"/Users/moderato/Downloads/GTSRB/try\"\n",
    "else:\n",
    "    root = \"/home/zhongyilin/Desktop/GTSRB/try\"\n",
    "print(root)\n",
    "train_dir = root + \"/Final_Training/Images\"\n",
    "test_dir = root + \"/Final_Test/Images\"\n",
    "resize_size = (49, 49)\n",
    "batch_size = 128"
   ]
  },
  {
   "cell_type": "code",
   "execution_count": 4,
   "metadata": {},
   "outputs": [
    {
     "name": "stdout",
     "output_type": "stream",
     "text": [
      "trainImages list length 39209, trainLabels list length 39209\n",
      "testImages list length 12630, testLabels list length 12630\n",
      "(49, 49, 3)\n"
     ]
    },
    {
     "data": {
      "image/png": "[encoded data removed]",
      "text/plain": [
       "<matplotlib.figure.Figure at 0x7f0efcd41ac8>"
      ]
     },
     "metadata": {},
     "output_type": "display_data"
    },
    {
     "name": "stdout",
     "output_type": "stream",
     "text": [
      "(49, 49, 3)\n"
     ]
    },
    {
     "data": {
      "image/png": "[encoded data removed]",
      "text/plain": [
       "<matplotlib.figure.Figure at 0x7f0eb7c020b8>"
      ]
     },
     "metadata": {},
     "output_type": "display_data"
    }
   ],
   "source": [
    "trainImages, trainLabels, testImages, testLabels = None, None, None, None\n",
    "\n",
    "## If pickle file exists, read the file\n",
    "if os.path.isfile(root + \"/processed_images.pkl\"):\n",
    "    f = open(root + \"/processed_images.pkl\", 'rb')\n",
    "    trainImages = cPickle.load(f, encoding=\"latin1\")\n",
    "    trainLabels = cPickle.load(f, encoding=\"latin1\")\n",
    "    testImages = cPickle.load(f, encoding=\"latin1\")\n",
    "    testLabels = cPickle.load(f, encoding=\"latin1\")\n",
    "    f.close()\n",
    "## Else, read images and write to the pickle file\n",
    "else:\n",
    "    start = time.time()\n",
    "    trainImages, trainLabels = readTrafficSigns(train_dir, resize_size)\n",
    "    print(\"Training Image preprocessing finished in {:.2f} seconds\".format(time.time() - start))\n",
    "\n",
    "    start = time.time()\n",
    "    testImages, testLabels = readTrafficSigns(test_dir, resize_size, False)\n",
    "    print(\"Testing Image preprocessing finished in {:.2f} seconds\".format(time.time() - start))\n",
    "    \n",
    "    f = open(root + \"/processed_images.pkl\", 'wb')\n",
    "    for obj in [trainImages, trainLabels, testImages, testLabels]:\n",
    "        cPickle.dump(obj, f, protocol=cPickle.HIGHEST_PROTOCOL)\n",
    "    f.close()\n",
    "\n",
    "print(\"trainImages list length {:d}, trainLabels list length {:d}\".format(len(trainImages), len(trainLabels)))\n",
    "print(\"testImages list length {:d}, testLabels list length {:d}\".format(len(testImages), len(testLabels)))\n",
    "\n",
    "print(trainImages[42].shape)\n",
    "plt.imshow(trainImages[42])\n",
    "plt.show()\n",
    "\n",
    "print(testImages[21].shape)\n",
    "plt.imshow(trainImages[21])\n",
    "plt.show()"
   ]
  },
  {
   "cell_type": "markdown",
   "metadata": {},
   "source": [
    "## Intel Nervana Neon"
   ]
  },
  {
   "cell_type": "code",
   "execution_count": 33,
   "metadata": {},
   "outputs": [],
   "source": [
    "from neon.backends import gen_backend, cleanup_backend\n",
    "from neon.initializers import Gaussian, Constant, GlorotUniform\n",
    "from neon.layers import GeneralizedCost, Affine\n",
    "from neon.layers import Conv as neon_Conv, Dropout as neon_Dropout, Pooling as neon_Pooling\n",
    "from neon.transforms import Rectlin, Softmax, CrossEntropyMulti, Misclassification, TopKMisclassification\n",
    "from neon.models import Model\n",
    "from neon.optimizers import GradientDescentMomentum as neon_SGD, ExpSchedule\n",
    "from neon.callbacks.callbacks import Callbacks, Callback, LossCallback\n",
    "from neon.data.dataiterator import ArrayIterator\n",
    "from timeit import default_timer"
   ]
  },
  {
   "cell_type": "code",
   "execution_count": 60,
   "metadata": {},
   "outputs": [],
   "source": [
    "class SelfCallback(LossCallback):\n",
    "    def __init__(self, eval_set, epoch_freq):\n",
    "        super(SelfCallback, self).__init__(eval_set=eval_set, epoch_freq=epoch_freq)\n",
    "        self.train_batch_time = None\n",
    "        self.total_batch_index = 0\n",
    "        \n",
    "    def on_train_begin(self, callback_data, model, epochs):\n",
    "        super(SelfCallback, self).on_train_begin(callback_data, model, epochs)\n",
    "        \n",
    "        # Save training time per batch\n",
    "        points = callback_data['config'].attrs['total_minibatches']\n",
    "        callback_data.create_dataset(\"time/train_batch\", (points,))\n",
    "        \n",
    "    def on_minibatch_begin(self, callback_data, model, epoch, minibatch):\n",
    "        self.train_batch_time = default_timer()\n",
    "\n",
    "    def on_minibatch_end(self, callback_data, model, epoch, minibatch):\n",
    "        callback_data[\"time/train_batch\"][self.total_batch_index] = (default_timer() - self.train_batch_time)\n",
    "        self.total_batch_index += 1"
   ]
  },
  {
   "cell_type": "code",
   "execution_count": 63,
   "metadata": {
    "scrolled": true
   },
   "outputs": [
    {
     "name": "stderr",
     "output_type": "stream",
     "text": [
      "DISPLAY:neon:-------------------------------------------------------------------------------------\n",
      "DISPLAY:neon:|    Func     |    Mean     |   Median    |     Min     |     Max     |    Units    |\n",
      "DISPLAY:neon:-------------------------------------------------------------------------------------\n",
      "DISPLAY:neon:| fprop       |  12.231     |  12.186     |  12.076     |  12.591     |    msec     |\n",
      "DISPLAY:neon:| bprop       |  37.319     |  37.266     |  36.628     |  38.735     |    msec     |\n",
      "DISPLAY:neon:| iteration   |  49.55      |  49.423     |  48.703     |  51.289     |    msec     |\n",
      "DISPLAY:neon:-------------------------------------------------------------------------------------\n"
     ]
    },
    {
     "name": "stdout",
     "output_type": "stream",
     "text": [
      "Epoch 0   [Train |████████████████████|  246/246  batches, 3.48 cost, 12.24s] [CrossEntropyMulti Loss 0.00, 0.00s]\n",
      "Epoch 1   [Train |████████████████████|  245/245  batches, 2.79 cost, 12.10s] [CrossEntropyMulti Loss 0.00, 0.00s]\n",
      "Epoch 2   [Train |████████████████████|  245/245  batches, 2.19 cost, 12.11s] [CrossEntropyMulti Loss 0.00, 0.00s]\n",
      "Epoch 3   [Train |████████████████████|  245/245  batches, 1.79 cost, 12.10s] [CrossEntropyMulti Loss 0.00, 0.00s]\n",
      "Epoch 4   [Train |████████████████████|  245/245  batches, 1.50 cost, 12.12s] [CrossEntropyMulti Loss 0.00, 0.00s]\n",
      "Epoch 5   [Train |████████████████████|  245/245  batches, 1.29 cost, 12.13s] [CrossEntropyMulti Loss 0.00, 0.00s]\n",
      "Epoch 6   [Train |████████████████████|  245/245  batches, 1.08 cost, 12.15s] [CrossEntropyMulti Loss 0.00, 0.00s]\n",
      "Epoch 7   [Train |████████████████████|  245/245  batches, 0.92 cost, 12.15s] [CrossEntropyMulti Loss 0.00, 0.00s]\n",
      "Epoch 8   [Train |████████████████████|  245/245  batches, 0.82 cost, 12.15s] [CrossEntropyMulti Loss 0.00, 0.00s]\n",
      "Epoch 9   [Train |████████████████████|  245/245  batches, 0.71 cost, 12.15s] [CrossEntropyMulti Loss 0.00, 0.00s]\n",
      "Epoch 10  [Train |████████████████████|  245/245  batches, 0.64 cost, 12.16s] [CrossEntropyMulti Loss 0.00, 0.00s]\n",
      "Epoch 11  [Train |████████████████████|  245/245  batches, 0.59 cost, 12.15s] [CrossEntropyMulti Loss 0.00, 0.00s]\n",
      "Epoch 12  [Train |████████████████████|  245/245  batches, 0.52 cost, 12.15s] [CrossEntropyMulti Loss 0.00, 0.00s]\n",
      "Epoch 13  [Train |████████████████████|  245/245  batches, 0.47 cost, 12.15s] [CrossEntropyMulti Loss 0.00, 0.00s]\n",
      "Epoch 14  [Train |████████████████████|  245/245  batches, 0.44 cost, 12.14s] [CrossEntropyMulti Loss 0.00, 0.00s]\n",
      "Epoch 15  [Train |████████████████████|  245/245  batches, 0.39 cost, 12.15s] [CrossEntropyMulti Loss 0.00, 0.00s]\n",
      "Epoch 16  [Train |████████████████████|  245/245  batches, 0.37 cost, 12.15s] [CrossEntropyMulti Loss 0.00, 0.00s]\n",
      "Epoch 17  [Train |████████████████████|  245/245  batches, 0.34 cost, 12.15s] [CrossEntropyMulti Loss 0.00, 0.00s]\n",
      "Epoch 18  [Train |████████████████████|  246/246  batches, 0.32 cost, 12.20s] [CrossEntropyMulti Loss 0.00, 0.00s]\n",
      "Epoch 19  [Train |████████████████████|  245/245  batches, 0.30 cost, 12.15s] [CrossEntropyMulti Loss 0.00, 0.00s]\n",
      "Epoch 20  [Train |████████████████████|  245/245  batches, 0.29 cost, 12.15s] [CrossEntropyMulti Loss 0.00, 0.00s]\n",
      "Epoch 21  [Train |████████████████████|  245/245  batches, 0.27 cost, 12.16s] [CrossEntropyMulti Loss 0.00, 0.00s]\n",
      "Epoch 22  [Train |████████████████████|  245/245  batches, 0.27 cost, 12.15s] [CrossEntropyMulti Loss 0.00, 0.00s]\n",
      "Epoch 23  [Train |████████████████████|  245/245  batches, 0.25 cost, 12.16s] [CrossEntropyMulti Loss 0.00, 0.00s]\n",
      "Epoch 24  [Train |████████████████████|  245/245  batches, 0.24 cost, 12.15s] [CrossEntropyMulti Loss 0.00, 0.00s]\n",
      "Epoch 25  [Train |████████████████████|  245/245  batches, 0.23 cost, 12.15s] [CrossEntropyMulti Loss 0.00, 0.00s]\n",
      "Epoch 26  [Train |████████████████████|  245/245  batches, 0.21 cost, 12.15s] [CrossEntropyMulti Loss 0.00, 0.00s]\n",
      "Epoch 27  [Train |████████████████████|  245/245  batches, 0.20 cost, 12.15s] [CrossEntropyMulti Loss 0.00, 0.00s]\n",
      "Epoch 28  [Train |████████████████████|  245/245  batches, 0.19 cost, 12.17s] [CrossEntropyMulti Loss 0.00, 0.00s]\n",
      "Epoch 29  [Train |████████████████████|  245/245  batches, 0.19 cost, 12.16s] [CrossEntropyMulti Loss 0.00, 0.00s]\n",
      "Epoch 30  [Train |████████████████████|  245/245  batches, 0.17 cost, 12.16s] [CrossEntropyMulti Loss 0.00, 0.00s]\n",
      "Epoch 31  [Train |████████████████████|  245/245  batches, 0.17 cost, 12.17s] [CrossEntropyMulti Loss 0.00, 0.00s]\n",
      "Epoch 32  [Train |████████████████████|  245/245  batches, 0.17 cost, 12.17s] [CrossEntropyMulti Loss 0.00, 0.00s]\n",
      "Epoch 33  [Train |████████████████████|  245/245  batches, 0.16 cost, 12.16s] [CrossEntropyMulti Loss 0.00, 0.00s]\n",
      "Epoch 34  [Train |████████████████████|  245/245  batches, 0.15 cost, 12.16s] [CrossEntropyMulti Loss 0.00, 0.00s]\n",
      "Epoch 35  [Train |████████████████████|  245/245  batches, 0.15 cost, 12.16s] [CrossEntropyMulti Loss 0.00, 0.00s]\n",
      "Epoch 36  [Train |████████████████████|  246/246  batches, 0.16 cost, 12.22s] [CrossEntropyMulti Loss 0.00, 0.00s]\n",
      "Epoch 37  [Train |████████████████████|  245/245  batches, 0.14 cost, 12.16s] [CrossEntropyMulti Loss 0.00, 0.00s]\n",
      "Epoch 38  [Train |████████████████████|  245/245  batches, 0.14 cost, 12.17s] [CrossEntropyMulti Loss 0.00, 0.00s]\n",
      "Epoch 39  [Train |████████████████████|  245/245  batches, 0.14 cost, 12.17s] [CrossEntropyMulti Loss 0.00, 0.00s]\n",
      "Epoch 40  [Train |████████████████████|  245/245  batches, 0.12 cost, 12.17s] [CrossEntropyMulti Loss 0.00, 0.00s]\n",
      "Epoch 41  [Train |████████████████████|  245/245  batches, 0.13 cost, 12.17s] [CrossEntropyMulti Loss 0.00, 0.00s]\n",
      "Epoch 42  [Train |████████████████████|  245/245  batches, 0.12 cost, 12.16s] [CrossEntropyMulti Loss 0.00, 0.00s]\n",
      "Epoch 43  [Train |████████████████████|  245/245  batches, 0.12 cost, 12.16s] [CrossEntropyMulti Loss 0.00, 0.00s]\n",
      "Epoch 44  [Train |████████████████████|  245/245  batches, 0.12 cost, 12.16s] [CrossEntropyMulti Loss 0.00, 0.00s]\n",
      "Epoch 45  [Train |████████████████████|  245/245  batches, 0.12 cost, 12.42s] [CrossEntropyMulti Loss 0.00, 0.00s]\n",
      "Epoch 46  [Train |████████████████████|  245/245  batches, 0.12 cost, 12.37s] [CrossEntropyMulti Loss 0.00, 0.00s]\n",
      "Epoch 47  [Train |████████████████████|  245/245  batches, 0.11 cost, 12.20s] [CrossEntropyMulti Loss 0.00, 0.00s]\n",
      "Epoch 48  [Train |████████████████████|  245/245  batches, 0.11 cost, 12.18s] [CrossEntropyMulti Loss 0.00, 0.00s]\n",
      "Epoch 49  [Train |████████████████████|  245/245  batches, 0.10 cost, 12.19s] [CrossEntropyMulti Loss 0.00, 0.00s]\n",
      "Neon training finishes in 649.34 seconds.\n",
      "Misclassification error = 4.0%. Finished in 0.78 seconds.\n",
      "Top 3 Misclassification error = 1.2%. Finished in 0.78 seconds.\n",
      "Misclassification error = 14.4% on test set. Finished in 1.25 seconds.\n",
      "Top 3 Misclassification error = 6.3% on test set. Finished in 1.25 seconds.\n",
      "\n",
      "\n"
     ]
    }
   ],
   "source": [
    "mlp = None\n",
    "epoch_num = 50\n",
    "neon_gaussInit = Gaussian(loc=0.0, scale=0.01)\n",
    "d = dict()\n",
    "b = \"gpu\"\n",
    "\n",
    "# Set up backend\n",
    "# backend: 'cpu' for single, 'mkl' for multi-thread cpu, and 'gpu' for gpu\n",
    "be = gen_backend(backend=b, batch_size=batch_size, rng_seed=542, datatype=np.float32)\n",
    "\n",
    "# Make iterators\n",
    "x_train, x_valid, neon_y_train, neon_y_valid = ms.train_test_split(trainImages, trainLabels, test_size=0.2, random_state=542)\n",
    "neon_train_set = ArrayIterator(X=np.asarray([t.flatten().astype('float32')/255 for t in x_train]), y=np.asarray(neon_y_train), make_onehot=True, nclass=43, lshape=(3, resize_size[0], resize_size[1]))\n",
    "neon_valid_set = ArrayIterator(X=np.asarray([t.flatten().astype('float32')/255 for t in x_valid]), y=np.asarray(neon_y_valid), make_onehot=True, nclass=43, lshape=(3, resize_size[0], resize_size[1]))\n",
    "neon_test_set = ArrayIterator(X=np.asarray([t.flatten().astype('float32')/255 for t in testImages]), y=np.asarray(testLabels), make_onehot=True, nclass=43, lshape=(3, resize_size[0], resize_size[1]))\n",
    "\n",
    "# Construct CNN\n",
    "layers = []\n",
    "layers.append(neon_Conv((5, 5, 64), strides=2, init=neon_gaussInit, bias=Constant(0.0), activation=Rectlin(), name=\"neon_conv1\"))\n",
    "layers.append(neon_Pooling(2, op=\"max\", strides=2, name=\"neon_pool1\"))\n",
    "layers.append(neon_Conv((3, 3, 512), strides=1, padding=1, init=neon_gaussInit, bias=Constant(0.0), activation=Rectlin(), name=\"neon_conv2\"))\n",
    "layers.append(neon_Pooling(2, op=\"max\", strides=2, name=\"neon_pool2\"))\n",
    "layers.append(neon_Pooling(5, op=\"avg\", name=\"neon_global_pool\"))\n",
    "# layers.append(Affine(nout=4096, init=neon_gaussInit, bias=Constant(0.0), activation=Rectlin(), name=\"neon_fc1\"))\n",
    "layers.append(neon_Dropout(keep=0.5, name=\"neon_drop_out\"))\n",
    "layers.append(Affine(nout=43, init=neon_gaussInit, bias=Constant(0.0), activation=Softmax(), name=\"neon_fc2\"))\n",
    "\n",
    "# Initialize model object\n",
    "mlp = Model(layers=layers)\n",
    "\n",
    "# Costs\n",
    "neon_cost = GeneralizedCost(costfunc=CrossEntropyMulti())\n",
    "\n",
    "# Model summary\n",
    "mlp.initialize(neon_train_set, neon_cost)\n",
    "#     print(mlp)\n",
    "\n",
    "# Learning rules\n",
    "neon_optimizer = neon_SGD(0.01, momentum_coef=0.9, schedule=ExpSchedule(0.2))\n",
    "\n",
    "# Benchmark for 20 minibatches\n",
    "d[b] = mlp.benchmark(neon_train_set, cost=neon_cost, optimizer=neon_optimizer)\n",
    "\n",
    "# Reset model\n",
    "mlp = None\n",
    "mlp = Model(layers=layers)\n",
    "mlp.initialize(neon_train_set, neon_cost)\n",
    "\n",
    "# Callbacks: validate on validation set\n",
    "callbacks = Callbacks(mlp, eval_set=neon_valid_set, metric=Misclassification(3), output_file=root+\"/callback_data_{}.h5\".format(b))\n",
    "callbacks.add_callback(SelfCallback(eval_set=neon_valid_set, epoch_freq=1))\n",
    "\n",
    "# Fit\n",
    "start = time.time()\n",
    "mlp.fit(neon_train_set, optimizer=neon_optimizer, num_epochs=epoch_num, cost=neon_cost, callbacks=callbacks)\n",
    "print(\"Neon training finishes in {:.2f} seconds.\".format(time.time() - start))\n",
    "\n",
    "# Result\n",
    "results = mlp.get_outputs(neon_valid_set)\n",
    "\n",
    "# Print error on validation set\n",
    "start = time.time()\n",
    "neon_error_mis = mlp.eval(neon_valid_set, metric=Misclassification())*100\n",
    "print('Misclassification error = {:.1f}%. Finished in {:.2f} seconds.'.format(neon_error_mis[0], time.time() - start))\n",
    "\n",
    "start = time.time()\n",
    "neon_error_top3 = mlp.eval(neon_valid_set, metric=TopKMisclassification(3))*100\n",
    "print('Top 3 Misclassification error = {:.1f}%. Finished in {:.2f} seconds.'.format(neon_error_top3[2], time.time() - start))\n",
    "\n",
    "start = time.time()\n",
    "neon_error_top5 = mlp.eval(neon_valid_set, metric=TopKMisclassification(5))*100\n",
    "print('Top 5 Misclassification error = {:.1f}%. Finished in {:.2f} seconds.'.format(neon_error_top5[2], time.time() - start))\n",
    "\n",
    "mlp.save_params(root + \"/saved_models/neon_weights_{}.prm\".format(b))\n",
    "\n",
    "# Print error on test set\n",
    "start = time.time()\n",
    "neon_error_mis_t = mlp.eval(neon_test_set, metric=Misclassification())*100\n",
    "print('Misclassification error = {:.1f}% on test set. Finished in {:.2f} seconds.'.format(neon_error_mis_t[0], time.time() - start))\n",
    "\n",
    "start = time.time()\n",
    "neon_error_top3_t = mlp.eval(neon_test_set, metric=TopKMisclassification(3))*100\n",
    "print('Top 3 Misclassification error = {:.1f}% on test set. Finished in {:.2f} seconds.'.format(neon_error_top3_t[2], time.time() - start))\n",
    "\n",
    "start = time.time()\n",
    "neon_error_top5_t = mlp.eval(neon_test_set, metric=TopKMisclassification(5))*100\n",
    "print('Top 5 Misclassification error = {:.1f}% on test set. Finished in {:.2f} seconds.'.format(neon_error_top5_t[2], time.time() - start))\n",
    "\n",
    "cleanup_backend()\n",
    "mlp = None\n",
    "print(\"\\n\")"
   ]
  },
  {
   "cell_type": "code",
   "execution_count": null,
   "metadata": {
    "collapsed": true
   },
   "outputs": [],
   "source": [
    "mlp = None\n",
    "epoch_num = 5\n",
    "\n",
    "# if os.path.isfile(root + \"/saved_models/neon_weights.prm\"):\n",
    "#     print(\"Model exists\")\n",
    "# else:\n",
    "\n",
    "neon_backends = [\"cpu\", \"mkl\", \"gpu\"]\n",
    "neon_gaussInit = Gaussian(loc=0.0, scale=0.01)\n",
    "\n",
    "d = dict()\n",
    "\n",
    "for b in neon_backends:\n",
    "    print(\"Use {} as backend.\".format(b))\n",
    "    \n",
    "    # Set up backend\n",
    "    # backend: 'cpu' for single, 'mkl' for multi-thread cpu, and 'gpu' for gpu\n",
    "    be = gen_backend(backend=b, batch_size=batch_size, rng_seed=542, datatype=np.float32)\n",
    "\n",
    "    # Make iterators\n",
    "    x_train, x_valid, neon_y_train, neon_y_valid = ms.train_test_split(trainImages, trainLabels, test_size=0.2, random_state=542)\n",
    "    neon_train_set = ArrayIterator(X=np.asarray([t.flatten().astype('float32')/255 for t in x_train]), y=np.asarray(neon_y_train), make_onehot=True, nclass=43, lshape=(3, resize_size[0], resize_size[1]))\n",
    "    neon_valid_set = ArrayIterator(X=np.asarray([t.flatten().astype('float32')/255 for t in x_valid]), y=np.asarray(neon_y_valid), make_onehot=True, nclass=43, lshape=(3, resize_size[0], resize_size[1]))\n",
    "    neon_test_set = ArrayIterator(X=np.asarray([t.flatten().astype('float32')/255 for t in testImages]), y=np.asarray(testLabels), make_onehot=True, nclass=43, lshape=(3, resize_size[0], resize_size[1]))\n",
    "\n",
    "    # Construct CNN\n",
    "    layers = []\n",
    "    layers.append(neon_Conv((5, 5, 64), strides=2, init=neon_gaussInit, bias=Constant(0.0), activation=Rectlin(), name=\"neon_conv1\"))\n",
    "    layers.append(neon_Pooling(2, op=\"max\", strides=2, name=\"neon_pool1\"))\n",
    "    layers.append(neon_Conv((3, 3, 512), strides=1, padding=1, init=neon_gaussInit, bias=Constant(0.0), activation=Rectlin(), name=\"neon_conv2\"))\n",
    "    layers.append(neon_Pooling(2, op=\"max\", strides=2, name=\"neon_pool2\"))\n",
    "    layers.append(neon_Pooling(5, op=\"avg\", name=\"neon_global_pool\"))\n",
    "    # layers.append(Affine(nout=4096, init=neon_gaussInit, bias=Constant(0.0), activation=Rectlin(), name=\"neon_fc1\"))\n",
    "    layers.append(neon_Dropout(keep=0.5, name=\"neon_drop_out\"))\n",
    "    layers.append(Affine(nout=43, init=neon_gaussInit, bias=Constant(0.0), activation=Softmax(), name=\"neon_fc2\"))\n",
    "\n",
    "    # Initialize model object\n",
    "    mlp = Model(layers=layers)\n",
    "\n",
    "    # Costs\n",
    "    neon_cost = GeneralizedCost(costfunc=CrossEntropyMulti())\n",
    "\n",
    "    # Model summary\n",
    "    mlp.initialize(neon_train_set, neon_cost)\n",
    "    #     print(mlp)\n",
    "\n",
    "    # Learning rules\n",
    "    neon_optimizer = neon_SGD(0.01, momentum_coef=0.9, schedule=ExpSchedule(0.2))\n",
    "\n",
    "    # Benchmark for 20 minibatches\n",
    "    d[b] = mlp.benchmark(neon_train_set, cost=neon_cost, optimizer=neon_optimizer)\n",
    "\n",
    "    # Reset model\n",
    "    mlp = None\n",
    "    mlp = Model(layers=layers)\n",
    "    mlp.initialize(neon_train_set, neon_cost)\n",
    "\n",
    "    # Callbacks: validate on validation set\n",
    "    callbacks = Callbacks(mlp, eval_set=neon_valid_set, metric=Misclassification(3), output_file=root+\"/callback_data_{}.h5\".format(b))\n",
    "    callbacks.add_callback(SelfCallback(eval_set=neon_valid_set, epoch_freq=1))\n",
    "\n",
    "    # Fit\n",
    "    start = time.time()\n",
    "    mlp.fit(neon_train_set, optimizer=neon_optimizer, num_epochs=epoch_num, cost=neon_cost, callbacks=callbacks)\n",
    "    print(\"Neon training finishes in {:.2f} seconds.\".format(time.time() - start))\n",
    "\n",
    "    # Result\n",
    "    results = mlp.get_outputs(neon_valid_set)\n",
    "\n",
    "    # Print error on validation set\n",
    "    start = time.time()\n",
    "    neon_error_mis = mlp.eval(neon_valid_set, metric=Misclassification())*100\n",
    "    print('Misclassification error = {:.1f}%. Finished in {:.2f} seconds.'.format(neon_error_mis[0], time.time() - start))\n",
    "\n",
    "    start = time.time()\n",
    "    neon_error_top3 = mlp.eval(neon_valid_set, metric=TopKMisclassification(3))*100\n",
    "    print('Top 3 Misclassification error = {:.1f}%. Finished in {:.2f} seconds.'.format(neon_error_top3[2], time.time() - start))\n",
    "\n",
    "    start = time.time()\n",
    "    neon_error_top5 = mlp.eval(neon_valid_set, metric=TopKMisclassification(5))*100\n",
    "    print('Top 5 Misclassification error = {:.1f}%. Finished in {:.2f} seconds.'.format(neon_error_top5[2], time.time() - start))\n",
    "\n",
    "    mlp.save_params(root + \"/saved_models/neon_weights_{}.prm\".format(b))\n",
    "\n",
    "    # Print error on test set\n",
    "    start = time.time()\n",
    "    neon_error_mis_t = mlp.eval(neon_test_set, metric=Misclassification())*100\n",
    "    print('Misclassification error = {:.1f}% on test set. Finished in {:.2f} seconds.'.format(neon_error_mis_t[0], time.time() - start))\n",
    "\n",
    "    start = time.time()\n",
    "    neon_error_top3_t = mlp.eval(neon_test_set, metric=TopKMisclassification(3))*100\n",
    "    print('Top 3 Misclassification error = {:.1f}% on test set. Finished in {:.2f} seconds.'.format(neon_error_top3_t[2], time.time() - start))\n",
    "\n",
    "    start = time.time()\n",
    "    neon_error_top5_t = mlp.eval(neon_test_set, metric=TopKMisclassification(5))*100\n",
    "    print('Top 5 Misclassification error = {:.1f}% on test set. Finished in {:.2f} seconds.'.format(neon_error_top5_t[2], time.time() - start))\n",
    "\n",
    "    cleanup_backend()\n",
    "    mlp = None\n",
    "    print(\"\\n\")"
   ]
  },
  {
   "cell_type": "code",
   "execution_count": 104,
   "metadata": {
    "scrolled": true
   },
   "outputs": [
    {
     "data": {
      "image/png": "[encoded data removed]",
      "text/plain": [
       "<matplotlib.figure.Figure at 0x7f0e98d7cb38>"
      ]
     },
     "metadata": {},
     "output_type": "display_data"
    },
    {
     "data": {
      "image/png": "[encoded data removed]",
      "text/plain": [
       "<matplotlib.figure.Figure at 0x7f0e98d7c898>"
      ]
     },
     "metadata": {},
     "output_type": "display_data"
    }
   ],
   "source": [
    "# Draw figures\n",
    "import h5py\n",
    "import pandas as pd\n",
    "import matplotlib\n",
    "import matplotlib.pyplot as plt\n",
    "from neon.visualizations.data import h5_cost_data\n",
    "%matplotlib inline\n",
    "matplotlib.rcParams['figure.figsize'] = (10,8)\n",
    "\n",
    "train_cost_batch = pd.DataFrame()\n",
    "valid_cost_epoch = pd.DataFrame()\n",
    "train_epoch_mark = dict()\n",
    "\n",
    "neon_backends = [\"gpu\"]\n",
    "for b in neon_backends:\n",
    "    f = h5py.File(root+\"/callback_data_{}.h5\".format(b), \"r\")\n",
    "    keys = list(f['.'].keys())\n",
    "    \n",
    "    train_cost_batch['neon_{}_loss'.format(b)] = pd.Series(f['.']['cost']['train'][()])\n",
    "    train_cost_batch['neon_{}_t'.format(b)] = pd.Series(f['.']['time']['train_batch'][()]).cumsum()\n",
    "    \n",
    "    valid_cost_epoch['neon_{}_loss'.format(b)] = pd.Series(f['.']['cost']['loss'][()])\n",
    "    valid_cost_epoch['neon_{}_t'.format(b)] = pd.Series(f['.']['time']['loss'][()])\n",
    "    \n",
    "    train_epoch_mark['neon_{}_mark'.format(b)] = (f['.']['time_markers']['minibatch'][()]-1).astype(int).tolist()\n",
    "    \n",
    "    f.close()  \n",
    "    \n",
    "fig = plt.figure()\n",
    "plt.plot(train_cost_batch['neon_gpu_t'].iloc[train_epoch_mark['neon_{}_mark'.format(b)]], \\\n",
    "         train_cost_batch['neon_gpu_loss'].iloc[train_epoch_mark['neon_{}_mark'.format(b)]], marker='o')\n",
    "plt.legend(loc='best')\n",
    "plt.show()\n",
    "fig.savefig(root+\"/pics/\"+\"neon_gpu_train_loss_time.png\", dpi=fig.dpi)\n",
    "\n",
    "fig = plt.figure()\n",
    "plt.plot(range(len(train_epoch_mark['neon_gpu_mark'])), \\\n",
    "         train_cost_batch['neon_gpu_loss'].iloc[train_epoch_mark['neon_{}_mark'.format(b)]], marker='o')\n",
    "plt.plot(range(len(train_epoch_mark['neon_gpu_mark'])), valid_cost_epoch['neon_gpu_loss'], marker='x')\n",
    "plt.show()\n",
    "fig.savefig(root+\"/pics/\"+\"neon_gpu_train_loss_epoch.png\", dpi=fig.dpi)"
   ]
  },
  {
   "cell_type": "markdown",
   "metadata": {},
   "source": [
    "## Keras with different multiple backends (Tensorflow, Theano, CNTK)"
   ]
  },
  {
   "cell_type": "code",
   "execution_count": null,
   "metadata": {
    "collapsed": true
   },
   "outputs": [],
   "source": [
    "from keras.layers import Conv2D as keras_Conv, MaxPooling2D as keras_MaxPooling, GlobalAveragePooling2D as keras_AveragePooling\n",
    "from keras.layers import Dropout as keras_Dropout, Dense, Flatten\n",
    "from keras.models import Sequential\n",
    "from keras.utils import np_utils, to_categorical\n",
    "from keras import backend as K\n",
    "from keras.preprocessing import image\n",
    "from keras.initializers import RandomNormal, Constant as keras_Constant\n",
    "from keras.optimizers import SGD as keras_SGD\n",
    "from keras.callbacks import ModelCheckpoint, Callback as keras_callback\n",
    "from sklearn import model_selection as ms\n",
    "from sklearn.preprocessing import OneHotEncoder\n",
    "from keras.layers.convolutional import ZeroPadding2D\n",
    "import os"
   ]
  },
  {
   "cell_type": "code",
   "execution_count": null,
   "metadata": {
    "collapsed": true
   },
   "outputs": [],
   "source": [
    "class LossHistory(keras_callback):\n",
    "    def on_train_begin(self, logs={}):\n",
    "        self.losses = []\n",
    "\n",
    "    def on_batch_end(self, batch, logs={}):\n",
    "        self.losses.append(logs.get('loss'))"
   ]
  },
  {
   "cell_type": "code",
   "execution_count": null,
   "metadata": {
    "collapsed": true
   },
   "outputs": [],
   "source": [
    "# Function to dynamically change keras backend\n",
    "from importlib import reload\n",
    "def set_keras_backend(backend):\n",
    "    if K.backend() != backend:\n",
    "        os.environ['KERAS_BACKEND'] = backend\n",
    "        reload(K)\n",
    "        assert K.backend() == backend"
   ]
  },
  {
   "cell_type": "code",
   "execution_count": null,
   "metadata": {
    "collapsed": true
   },
   "outputs": [],
   "source": [
    "from sys import platform\n",
    "backends = [\"theano\", \"tensorflow\"]\n",
    "if platform != \"darwin\":\n",
    "    backends.append(\"cntk\")\n",
    "    \n",
    "for b in backends:\n",
    "    set_keras_backend(b)\n",
    "\n",
    "    # Load and process images\n",
    "    enc = OneHotEncoder(sparse=False)\n",
    "    x_train, x_valid, y_train, y_valid = ms.train_test_split(trainImages, trainLabels, test_size=0.2, random_state=542)\n",
    "    keras_train_x = np.vstack([np.expand_dims(image.img_to_array(x), axis=0).astype('float32')/255 for x in x_train])\n",
    "    keras_valid_x = np.vstack([np.expand_dims(image.img_to_array(x), axis=0).astype('float32')/255 for x in x_valid])\n",
    "    keras_test_x = np.vstack([np.expand_dims(image.img_to_array(x), axis=0).astype('float32')/255 for x in testImages])\n",
    "    keras_train_y = to_categorical(y_train, 43)\n",
    "    keras_valid_y = to_categorical(y_valid, 43)\n",
    "    keras_test_y = to_categorical(testLabels, 43)\n",
    "\n",
    "    # Build model\n",
    "    keras_gaussInit = RandomNormal(mean=0.0, stddev=0.01, seed=542)\n",
    "    layer_name_prefix = b+\"_\"\n",
    "\n",
    "    keras_model = Sequential()\n",
    "    keras_model.add(keras_Conv(64, (5, 5), kernel_initializer=keras_gaussInit, strides=(2, 2), bias_initializer=keras_Constant(0.0), activation=\"relu\", input_shape=(resize_size[0], resize_size[1], 3), name=layer_name_prefix+\"conv1\"))\n",
    "    keras_model.add(keras_MaxPooling(pool_size=(2, 2), name=layer_name_prefix+\"pool1\"))\n",
    "    # keras_model.add(ZeroPadding2D(padding=(1, 1), name=layer_name_prefix+\"zero_padding\"))\n",
    "    # keras_model.add(keras_Conv(256, (3, 3), kernel_initializer=keras_gaussInit, strides=(1, 1), bias_initializer=keras_Constant(0.0), activation=\"relu\", name=layer_name_prefix+\"conv2\"))\n",
    "    keras_model.add(keras_Conv(256, (3, 3), kernel_initializer=keras_gaussInit, strides=(1, 1), padding=\"same\", bias_initializer=keras_Constant(0.0), activation=\"relu\", name=layer_name_prefix+\"conv2\"))\n",
    "    keras_model.add(keras_MaxPooling(pool_size=(2, 2), name=layer_name_prefix+\"pool2\"))\n",
    "    # keras_model.add(keras_AveragePooling(name=layer_name_prefix+\"global_pool\"))\n",
    "    keras_model.add(Flatten(name=layer_name_prefix+\"flatten\")) # An extra layer to flatten the previous layer in order to connect to fully connected layer\n",
    "    keras_model.add(Dense(4096, kernel_initializer=keras_gaussInit, bias_initializer=keras_Constant(0.0), activation=\"relu\", name=layer_name_prefix+\"fc1\"))\n",
    "    keras_model.add(keras_Dropout(0.5, name=layer_name_prefix+\"drop_out\"))\n",
    "    keras_model.add(Dense(43, kernel_initializer=keras_gaussInit, bias_initializer=keras_Constant(0.0), activation=\"softmax\", name=layer_name_prefix+\"fc2\"))\n",
    "    keras_model.summary()\n",
    "\n",
    "    keras_optimizer = keras_SGD(lr=0.01, decay=1.6e-8, momentum=0.9)\n",
    "    keras_cost = \"categorical_crossentropy\"\n",
    "    keras_model.compile(loss=keras_cost, optimizer=keras_optimizer, metrics=[\"acc\"])\n",
    "\n",
    "    checkpointer = ModelCheckpoint(filepath=root+\"/saved_models/keras_\"+b+\"_weights.hdf5\",\n",
    "                                       verbose=1, save_best_only=True)\n",
    "    losses = LossHistory()\n",
    "\n",
    "    start = time.time()\n",
    "    keras_model.fit(keras_train_x, keras_train_y,\n",
    "                  validation_data=(keras_valid_x, keras_valid_y),\n",
    "                  epochs=epoch_num, batch_size=batch_size, callbacks=[checkpointer, losses], verbose=1, shuffle=True)\n",
    "    print(\"{} training finishes in {:.2f} seconds.\".format(b, time.time() - start))\n",
    "    \n",
    "    train_cost['keras_{}'.format(b)] = pd.Series(\"f['.']['cost']['train'][()]\")\n",
    "\n",
    "    keras_model.load_weights(root+\"/saved_models/keras_\"+b+\"_weights.hdf5\")\n",
    "    keras_predictions = [np.argmax(keras_model.predict(np.expand_dims(feature, axis=0))) for feature in keras_test_x]\n",
    "\n",
    "    # report test accuracy\n",
    "    keras_test_accuracy = 100*np.sum(np.array(keras_predictions)==np.argmax(keras_test_y, axis=1))/len(keras_predictions)\n",
    "    print('{} test accuracy: {:.1f}%'.format(b, keras_test_accuracy))"
   ]
  },
  {
   "cell_type": "code",
   "execution_count": null,
   "metadata": {
    "collapsed": true
   },
   "outputs": [],
   "source": []
  },
  {
   "cell_type": "markdown",
   "metadata": {
    "collapsed": true
   },
   "source": [
    "## PyTorch"
   ]
  },
  {
   "cell_type": "code",
   "execution_count": null,
   "metadata": {
    "collapsed": true
   },
   "outputs": [],
   "source": [
    "import torch\n",
    "import torch.nn.functional as F\n",
    "import torch.optim as optim\n",
    "import torch.utils.data as utils\n",
    "from torchvision import datasets, transforms\n",
    "from torch.autograd import Variable"
   ]
  },
  {
   "cell_type": "code",
   "execution_count": null,
   "metadata": {
    "collapsed": true
   },
   "outputs": [],
   "source": [
    "class ConvNet(torch.nn.Module):\n",
    "    def __init__(self):\n",
    "        super(ConvNet, self).__init__()\n",
    "\n",
    "        # Build model\n",
    "        self.conv = torch.nn.Sequential()\n",
    "        self.conv.add_module(\"torch_conv1\", torch.nn.Conv2d(3, 64, kernel_size=(5, 5), stride=2))\n",
    "        self.conv.add_module(\"torch_pool1\", torch.nn.MaxPool2d(kernel_size=2))\n",
    "        self.conv.add_module(\"torch_relu1\", torch.nn.ReLU())\n",
    "        self.conv.add_module(\"torch_conv2\", torch.nn.Conv2d(64, 256, kernel_size=(3, 3), stride=1, padding=1))\n",
    "        self.conv.add_module(\"torch_pool2\", torch.nn.MaxPool2d(kernel_size=2))\n",
    "        self.conv.add_module(\"torch_relu2\", torch.nn.ReLU())\n",
    "        self.conv.add_module(\"torch_global_pool\", torch.nn.AvgPool2d(kernel_size=5))\n",
    "        \n",
    "        self.csf = torch.nn.Sequential()\n",
    "        self.csf.add_module(\"torch_fc1\", torch.nn.Linear(256, 4096))\n",
    "        self.csf.add_module(\"torch_relu3\", torch.nn.ReLU())\n",
    "        self.csf.add_module(\"torch_dropout1\", torch.nn.Dropout(0.5))\n",
    "        self.csf.add_module(\"torch_fc2\", torch.nn.Linear(4096, 43))\n",
    "        \n",
    "        # Initialize conv layers and fc layers\n",
    "        torch.nn.init.normal(self.conv.state_dict()[\"torch_conv1.weight\"], mean=0, std=0.01)\n",
    "        torch.nn.init.constant(self.conv.state_dict()[\"torch_conv1.bias\"], 0.0)\n",
    "        torch.nn.init.normal(self.conv.state_dict()[\"torch_conv2.weight\"], mean=0, std=0.01)\n",
    "        torch.nn.init.constant(self.conv.state_dict()[\"torch_conv2.bias\"], 0.0)\n",
    "        torch.nn.init.normal(self.csf.state_dict()[\"torch_fc1.weight\"], mean=0, std=0.01)\n",
    "        torch.nn.init.constant(self.csf.state_dict()[\"torch_fc1.bias\"], 0.0)\n",
    "        torch.nn.init.normal(self.csf.state_dict()[\"torch_fc2.weight\"], mean=0, std=0.01)\n",
    "        torch.nn.init.constant(self.csf.state_dict()[\"torch_fc2.bias\"], 0.0)\n",
    "\n",
    "    def forward(self, x):\n",
    "        x = self.conv.forward(x)\n",
    "        x = x.view(-1, 256)\n",
    "        return self.csf.forward(x)"
   ]
  },
  {
   "cell_type": "code",
   "execution_count": null,
   "metadata": {
    "collapsed": true
   },
   "outputs": [],
   "source": [
    "x_train, x_valid, y_train, y_valid = ms.train_test_split(trainImages, trainLabels, test_size=0.2, random_state=542)\n",
    "\n",
    "torch_train_x = torch.stack([torch.Tensor(i.swapaxes(0,2).astype(\"float32\")/255) for i in x_train])\n",
    "torch_train_y = torch.LongTensor(y_train)\n",
    "torch_valid_x = torch.stack([torch.Tensor(i.swapaxes(0,2).astype(\"float32\")/255) for i in x_valid])\n",
    "torch_valid_y = torch.LongTensor(y_valid)\n",
    "torch_test_x = torch.stack([torch.Tensor(i.swapaxes(0,2).astype(\"float32\")/255) for i in testImages])\n",
    "torch_test_y = torch.LongTensor(testLabels)\n",
    "\n",
    "torch_tensor_train_set = utils.TensorDataset(torch_train_x, torch_train_y)\n",
    "torch_train_set = utils.DataLoader(torch_tensor_train_set, batch_size=batch_size, shuffle=True)\n",
    "torch_tensor_valid_set = utils.TensorDataset(torch_valid_x, torch_valid_y)\n",
    "torch_valid_set = utils.DataLoader(torch_tensor_valid_set, batch_size=batch_size, shuffle=True)\n",
    "torch_tensor_test_set = utils.TensorDataset(torch_test_x, torch_test_y)\n",
    "torch_test_set = utils.DataLoader(torch_tensor_test_set, batch_size=batch_size, shuffle=True)\n",
    "\n",
    "torch_model = ConvNet()\n",
    "optimizer = optim.SGD(torch_model.parameters(), lr=0.01, momentum=0.9)"
   ]
  },
  {
   "cell_type": "code",
   "execution_count": null,
   "metadata": {
    "collapsed": true
   },
   "outputs": [],
   "source": [
    "def train(epoch):\n",
    "    torch_model.train()\n",
    "    for batch_idx, (data, target) in enumerate(torch_train_set):\n",
    "#         if args.cuda:\n",
    "#             data, target = data.cuda(), target.cuda()\n",
    "        data, target = Variable(data), Variable(target)\n",
    "        optimizer.zero_grad()\n",
    "        output = torch_model(data)\n",
    "        cost = torch.nn.CrossEntropyLoss(size_average=True)\n",
    "        loss = cost(output, target)\n",
    "        loss.backward()\n",
    "        optimizer.step()\n",
    "        if batch_idx % 100 == 0:\n",
    "            print('Train Epoch: {} [{}/{} ({:.0f}%)]\\tLoss: {:.6f}'.format(\n",
    "                epoch, batch_idx * len(data), len(torch_train_set.dataset),\n",
    "                100. * batch_idx / len(torch_train_set), loss.data[0]))\n",
    "def test():\n",
    "    torch_model.eval()\n",
    "    test_loss = 0\n",
    "    correct = 0\n",
    "    for data, target in torch_test_set:\n",
    "#         if args.cuda:\n",
    "#             data, target = data.cuda(), target.cuda()\n",
    "        data, target = Variable(data, volatile=True), Variable(target)\n",
    "        output = torch_model(data)\n",
    "        cost = torch.nn.CrossEntropyLoss(size_average=False)\n",
    "        test_loss += cost(output, target).data[0] # sum up batch loss\n",
    "        pred = output.data.max(1, keepdim=True)[1] # get the index of the max log-probability\n",
    "        correct += pred.eq(target.data.view_as(pred)).cpu().sum()\n",
    "\n",
    "    test_loss /= len(torch_test_set.dataset)\n",
    "    print('\\nTest set: Average loss: {:.4f}, Accuracy: {}/{} ({:.0f}%)\\n'.format(\n",
    "        test_loss, correct, len(torch_test_set.dataset),\n",
    "        100. * correct / len(torch_test_set.dataset)))"
   ]
  },
  {
   "cell_type": "code",
   "execution_count": null,
   "metadata": {
    "collapsed": true
   },
   "outputs": [],
   "source": [
    "for epoch in range(1, epoch_num + 1):\n",
    "    train(epoch)\n",
    "test()"
   ]
  }
 ],
 "metadata": {
  "kernelspec": {
   "display_name": "Python 3",
   "language": "python",
   "name": "python3"
  },
  "language_info": {
   "codemirror_mode": {
    "name": "ipython",
    "version": 3
   },
   "file_extension": ".py",
   "mimetype": "text/x-python",
   "name": "python",
   "nbconvert_exporter": "python",
   "pygments_lexer": "ipython3",
   "version": "3.5.0"
  }
 },
 "nbformat": 4,
 "nbformat_minor": 2
}
